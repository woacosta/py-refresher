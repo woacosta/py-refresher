{
 "cells": [
  {
   "cell_type": "markdown",
   "metadata": {},
   "source": [
    "# Getting started with pyspark-sql\n",
    "https://levelup.gitconnected.com/using-docker-and-pyspark-134cd4cab867"
   ]
  },
  {
   "cell_type": "code",
   "execution_count": 1,
   "metadata": {},
   "outputs": [],
   "source": [
    "# import necessary libraries\n",
    "import pandas as pd \n",
    "import numpy\n",
    "import matplotlib.pyplot as plt \n",
    "from pyspark.sql import SparkSession\n",
    "# create sparksession\n",
    "spark = SparkSession \\\n",
    "    .builder \\\n",
    "    .appName(\"Pysparkexample\") \\\n",
    "    .config(\"spark.some.config.option\", \"some-value\") \\\n",
    "    .getOrCreate()"
   ]
  },
  {
   "cell_type": "code",
   "execution_count": 2,
   "metadata": {},
   "outputs": [],
   "source": [
    "df = spark.read.csv('data/Vermont_Vendor_Payments.csv', header='true', inferSchema = True)\n",
    "df = df.withColumn(\"Amount\", df[\"Amount\"].cast(\"double\"))"
   ]
  },
  {
   "cell_type": "code",
   "execution_count": 3,
   "metadata": {},
   "outputs": [
    {
     "name": "stdout",
     "output_type": "stream",
     "text": [
      "The column Names are:\n",
      "Quarter Ending\n",
      "Department\n",
      "UnitNo\n",
      "Vendor Number\n",
      "Vendor\n",
      "City\n",
      "State\n",
      "DeptID Description\n",
      "DeptID\n",
      "Amount\n",
      "Account\n",
      "AcctNo\n",
      "Fund Description\n",
      "Fund\n"
     ]
    }
   ],
   "source": [
    "#we can use the columns attribute just like with pandas\n",
    "columns = df.columns\n",
    "print('The column Names are:')\n",
    "for i in columns:\n",
    "    print(i)"
   ]
  },
  {
   "cell_type": "code",
   "execution_count": 4,
   "metadata": {},
   "outputs": [
    {
     "name": "stdout",
     "output_type": "stream",
     "text": [
      "The total number of rows is: 1523230 \n",
      "The total number of columns is: 14\n"
     ]
    }
   ],
   "source": [
    "print('The total number of rows is:', df.count(), '\\nThe total number of columns is:', len(df.columns))"
   ]
  },
  {
   "cell_type": "code",
   "execution_count": 5,
   "metadata": {},
   "outputs": [
    {
     "name": "stdout",
     "output_type": "stream",
     "text": [
      "+--------------+--------------------+------+-------------+--------------------+-----------+-----+-------------------+----------+-------+--------------------+------+--------------------+-----+\n",
      "|Quarter Ending|          Department|UnitNo|Vendor Number|              Vendor|       City|State| DeptID Description|    DeptID| Amount|             Account|AcctNo|    Fund Description| Fund|\n",
      "+--------------+--------------------+------+-------------+--------------------+-----------+-----+-------------------+----------+-------+--------------------+------+--------------------+-----+\n",
      "|    12/31/2018|         Corrections|  3480|   0000006745|        White Market|Lyndonville|   VT| Northeast Regional|3480004250|  13.47|   Meat/Fish/Poultry|520701|        General Fund|10000|\n",
      "|    12/31/2018|Transportation Ag...|  8100|   0000043671|Agency of Digital...| Montpelier|   VT|Program Development|8100001100| 3364.0|Hardware-Desktop ...|522216|Transp Fund - Non...|20105|\n",
      "|    12/31/2018|         Corrections|  3480|   0000009294|    Pitney Bowes Inc| Louisville|   KY|        Rutland P&P|3480004690| 116.25|       Rental - Auto|514550|        General Fund|10000|\n",
      "|    12/31/2018|Transportation Ag...|  8100|   0000341336|van Zelm Heywood ...| Farmington|   CT|Program Development|8100001100|1020.42|Other Contr and 3...|507600|Transp Fund - Non...|20105|\n",
      "|    12/31/2018|         Corrections|  3480|   0000000540|Green Mountain Po...|Brattleboro|   VT|    Northwest State|3480004270| 217.66|         Electricity|521100|        General Fund|10000|\n",
      "+--------------+--------------------+------+-------------+--------------------+-----------+-----+-------------------+----------+-------+--------------------+------+--------------------+-----+\n",
      "only showing top 5 rows\n",
      "\n"
     ]
    }
   ],
   "source": [
    "# The .show() method prints the first 20 rows of the dataframe by default\n",
    "#show first 5 rows\n",
    "df.show(5)"
   ]
  },
  {
   "cell_type": "code",
   "execution_count": 7,
   "metadata": {},
   "outputs": [
    {
     "data": {
      "text/plain": [
       "Row(Quarter Ending='12/31/2018', Department='Corrections', UnitNo=3480, Vendor Number='0000006745', Vendor='White Market', City='Lyndonville', State='VT', DeptID Description='Northeast Regional', DeptID='3480004250', Amount=13.47, Account='Meat/Fish/Poultry', AcctNo='520701', Fund Description='General Fund', Fund='10000')"
      ]
     },
     "execution_count": 7,
     "metadata": {},
     "output_type": "execute_result"
    }
   ],
   "source": [
    "# The .head() method can also be used to display the first row. This prints much nicer in the notebook.\n",
    "df.head()"
   ]
  },
  {
   "cell_type": "code",
   "execution_count": 9,
   "metadata": {},
   "outputs": [
    {
     "data": {
      "text/plain": [
       "[Row(Quarter Ending='12/31/2018', Department='Corrections', UnitNo=3480, Vendor Number='0000006745', Vendor='White Market', City='Lyndonville', State='VT', DeptID Description='Northeast Regional', DeptID='3480004250', Amount=13.47, Account='Meat/Fish/Poultry', AcctNo='520701', Fund Description='General Fund', Fund='10000'),\n",
       " Row(Quarter Ending='12/31/2018', Department='Transportation Agency', UnitNo=8100, Vendor Number='0000043671', Vendor='Agency of Digital Services-CIT-Cust Supp', City='Montpelier', State='VT', DeptID Description='Program Development', DeptID='8100001100', Amount=3364.0, Account='Hardware-Desktop & Laptop PCs', AcctNo='522216', Fund Description='Transp Fund - Nondedicated', Fund='20105'),\n",
       " Row(Quarter Ending='12/31/2018', Department='Corrections', UnitNo=3480, Vendor Number='0000009294', Vendor='Pitney Bowes Inc', City='Louisville', State='KY', DeptID Description='Rutland P&P', DeptID='3480004690', Amount=116.25, Account='Rental - Auto', AcctNo='514550', Fund Description='General Fund', Fund='10000')]"
      ]
     },
     "execution_count": 9,
     "metadata": {},
     "output_type": "execute_result"
    }
   ],
   "source": [
    "# show first 3 rows\n",
    "df.head(3)"
   ]
  },
  {
   "cell_type": "code",
   "execution_count": 10,
   "metadata": {},
   "outputs": [
    {
     "name": "stdout",
     "output_type": "stream",
     "text": [
      "+-------+--------------+--------------------+------------------+------------------+--------------------+--------+-----------------+------------------+--------------------+--------------------+-------------------+------------------+--------------------+--------------------+\n",
      "|summary|Quarter Ending|          Department|            UnitNo|     Vendor Number|              Vendor|    City|            State|DeptID Description|              DeptID|              Amount|            Account|            AcctNo|    Fund Description|                Fund|\n",
      "+-------+--------------+--------------------+------------------+------------------+--------------------+--------+-----------------+------------------+--------------------+--------------------+-------------------+------------------+--------------------+--------------------+\n",
      "|  count|       1523230|             1523230|           1523230|           1523230|             1523230|  780907|          1523182|           1522693|             1523230|             1522888|            1523230|           1523230|             1523228|             1523229|\n",
      "|   mean|          null|                null|4054.0517059144054|102306.10507895672|                null|     0.0|2.112676056338028|              null|4.0551706429929843E9|  193155.46092248283|7.151501729589546E8| 532230.4106190997|  517536.10328638495|   25816.40873608108|\n",
      "| stddev|          null|                null| 2321.611742990892|118828.16786912325|                null|     0.0| 12.4974846563786|              null| 2.321569069624885E9|1.4588456040080689E7|5.648916702034527E8|30337.284932781684|   4500.872371273045|   19186.53691629712|\n",
      "|    min|    03/31/2010|AOT Proprietary F...|              1100|        0000000002|\"Jewett,Martin A ...|       0|                0|         \"\"\"Admin.|              CCV\"\"\"|         -2880183.34|            -294.00|           -294.00|              507200|               10000|\n",
      "|    max|    12/31/2018|  Women's Commission|              9150|            SINGLE|           xAd, Inc.|w Berlin|               ZZ|     Youth at Risk|                 Seg|           6.10001E9|  Youth Development|       Water/Sewer|Youth Substance A...|Facilities Operat...|\n",
      "+-------+--------------+--------------------+------------------+------------------+--------------------+--------+-----------------+------------------+--------------------+--------------------+-------------------+------------------+--------------------+--------------------+\n",
      "\n"
     ]
    }
   ],
   "source": [
    "# Like in pandas, we can call the describe method to get basic numerical summaries of the data. We need to use the show method to print it to the notebook\n",
    "df.describe().show()"
   ]
  },
  {
   "cell_type": "markdown",
   "metadata": {},
   "source": [
    "## Querying the data"
   ]
  },
  {
   "cell_type": "code",
   "execution_count": 11,
   "metadata": {},
   "outputs": [
    {
     "name": "stdout",
     "output_type": "stream",
     "text": [
      "+--------------+--------------------+-------+-----+\n",
      "|Quarter Ending|          Department| Amount|State|\n",
      "+--------------+--------------------+-------+-----+\n",
      "|    12/31/2018|         Corrections|  13.47|   VT|\n",
      "|    12/31/2018|Transportation Ag...| 3364.0|   VT|\n",
      "|    12/31/2018|         Corrections| 116.25|   KY|\n",
      "|    12/31/2018|Transportation Ag...|1020.42|   CT|\n",
      "|    12/31/2018|         Corrections| 217.66|   VT|\n",
      "|    12/31/2018|         Corrections|   20.0|   VT|\n",
      "|    12/31/2018|         Corrections| 499.31|   MA|\n",
      "|    12/31/2018|Transportation Ag...| 107.97|   VT|\n",
      "|    12/31/2018|Forests, Parks & ...| 1800.0|   VT|\n",
      "|    12/31/2018|Transportation Ag...|  36.42|   VT|\n",
      "+--------------+--------------------+-------+-----+\n",
      "\n"
     ]
    }
   ],
   "source": [
    "# I will start by creating a temporary table query with SQL\n",
    "df.createOrReplaceTempView('VermontVendor')\n",
    "spark.sql(\n",
    "'''\n",
    "SELECT `Quarter Ending`, Department, Amount, State FROM VermontVendor\n",
    "LIMIT 10\n",
    "'''\n",
    ").show()"
   ]
  },
  {
   "cell_type": "code",
   "execution_count": 12,
   "metadata": {},
   "outputs": [
    {
     "name": "stdout",
     "output_type": "stream",
     "text": [
      "+--------------+--------------------+-------+-----+\n",
      "|Quarter Ending|          Department| Amount|State|\n",
      "+--------------+--------------------+-------+-----+\n",
      "|    12/31/2018|         Corrections|  13.47|   VT|\n",
      "|    12/31/2018|Transportation Ag...| 3364.0|   VT|\n",
      "|    12/31/2018|         Corrections| 116.25|   KY|\n",
      "|    12/31/2018|Transportation Ag...|1020.42|   CT|\n",
      "|    12/31/2018|         Corrections| 217.66|   VT|\n",
      "|    12/31/2018|         Corrections|   20.0|   VT|\n",
      "|    12/31/2018|         Corrections| 499.31|   MA|\n",
      "|    12/31/2018|Transportation Ag...| 107.97|   VT|\n",
      "|    12/31/2018|Forests, Parks & ...| 1800.0|   VT|\n",
      "|    12/31/2018|Transportation Ag...|  36.42|   VT|\n",
      "+--------------+--------------------+-------+-----+\n",
      "only showing top 10 rows\n",
      "\n"
     ]
    }
   ],
   "source": [
    "# using pythonic syntax\n",
    "df.select('Quarter Ending', 'Department', 'Amount', 'State').show(10)"
   ]
  },
  {
   "cell_type": "code",
   "execution_count": 13,
   "metadata": {},
   "outputs": [
    {
     "name": "stdout",
     "output_type": "stream",
     "text": [
      "+--------------+----------+---------+-----+\n",
      "|Quarter Ending|Department|   Amount|State|\n",
      "+--------------+----------+---------+-----+\n",
      "|    09/30/2013| Education| 73581.07|   VT|\n",
      "|    09/30/2013| Education|  2053.03|   VT|\n",
      "|    09/30/2013| Education|   319.04|   VT|\n",
      "|    09/30/2013| Education|    133.2|   VT|\n",
      "|    09/30/2013| Education| 89474.24|   VT|\n",
      "|    09/30/2013| Education|    312.9|   VT|\n",
      "|    09/30/2013| Education|    540.0|   CA|\n",
      "|    09/30/2013| Education|    39.66|   VT|\n",
      "|    09/30/2013| Education|323742.41|   VT|\n",
      "|    09/30/2013| Education|   327.16|   VT|\n",
      "+--------------+----------+---------+-----+\n",
      "\n"
     ]
    }
   ],
   "source": [
    "# filter temporary table created above\n",
    "spark.sql(\n",
    "'''\n",
    "SELECT `Quarter Ending`, Department, Amount, State FROM VermontVendor \n",
    "WHERE Department = 'Education'\n",
    "LIMIT 10\n",
    "'''\n",
    ").show()"
   ]
  },
  {
   "cell_type": "code",
   "execution_count": 14,
   "metadata": {},
   "outputs": [
    {
     "name": "stdout",
     "output_type": "stream",
     "text": [
      "+--------------+----------+---------+-----+\n",
      "|Quarter Ending|Department|   Amount|State|\n",
      "+--------------+----------+---------+-----+\n",
      "|    09/30/2013| Education| 73581.07|   VT|\n",
      "|    09/30/2013| Education|  2053.03|   VT|\n",
      "|    09/30/2013| Education|   319.04|   VT|\n",
      "|    09/30/2013| Education|    133.2|   VT|\n",
      "|    09/30/2013| Education| 89474.24|   VT|\n",
      "|    09/30/2013| Education|    312.9|   VT|\n",
      "|    09/30/2013| Education|    540.0|   CA|\n",
      "|    09/30/2013| Education|    39.66|   VT|\n",
      "|    09/30/2013| Education|323742.41|   VT|\n",
      "|    09/30/2013| Education|   327.16|   VT|\n",
      "+--------------+----------+---------+-----+\n",
      "only showing top 10 rows\n",
      "\n"
     ]
    }
   ],
   "source": [
    "# the pythonic way gives a similar result\n",
    "df.select('Quarter Ending', 'Department', 'Amount', 'State').filter(df['Department'] == 'Education').show(10)"
   ]
  },
  {
   "cell_type": "markdown",
   "metadata": {},
   "source": [
    "## Plotting"
   ]
  },
  {
   "cell_type": "markdown",
   "metadata": {},
   "source": [
    "one cannot directly create plots with a Spark dataframe. The simplest solution is to simply use the .toPandas() method to convert the result of Spark computations to a pandas dataframe"
   ]
  },
  {
   "cell_type": "code",
   "execution_count": 15,
   "metadata": {},
   "outputs": [
    {
     "data": {
      "image/png": "[encoded data removed]",
      "text/plain": [
       "<Figure size 720x432 with 1 Axes>"
      ]
     },
     "metadata": {
      "needs_background": "light"
     },
     "output_type": "display_data"
    }
   ],
   "source": [
    "plot_df = spark.sql(\n",
    "'''\n",
    "SELECT Department, SUM(Amount) as Total FROM VermontVendor \n",
    "GROUP BY Department\n",
    "ORDER BY Total DESC\n",
    "LIMIT 10\n",
    "'''\n",
    ").toPandas()\n",
    "\n",
    "fig,ax = plt.subplots(1,1,figsize=(10,6))\n",
    "plot_df.plot(x = 'Department', y = 'Total', kind = 'barh', color = 'C0', ax = ax, legend = False)\n",
    "ax.set_xlabel('Department', size = 16)\n",
    "ax.set_ylabel('Total', size = 16)\n",
    "plt.savefig('barplot.png')\n",
    "plt.show()"
   ]
  },
  {
   "cell_type": "code",
   "execution_count": 16,
   "metadata": {},
   "outputs": [
    {
     "data": {
      "image/png": "[encoded data removed]",
      "text/plain": [
       "<Figure size 720x432 with 1 Axes>"
      ]
     },
     "metadata": {
      "needs_background": "light"
     },
     "output_type": "display_data"
    }
   ],
   "source": [
    "# USE SEABORN\n",
    "import numpy as np\n",
    "import seaborn as sns\n",
    "plot_df2 = spark.sql(\n",
    "'''\n",
    "SELECT Department, SUM(Amount) as Total FROM VermontVendor \n",
    "GROUP BY Department\n",
    "'''\n",
    ").toPandas()\n",
    "plt.figure(figsize = (10,6))\n",
    "sns.distplot(np.log(plot_df2['Total']))\n",
    "plt.title('Histogram of Log Totals for all Departments in Dataset', size = 16)\n",
    "plt.ylabel('Density', size = 16)\n",
    "plt.xlabel('Log Total', size = 16)\n",
    "plt.savefig('distplot.png')\n",
    "plt.show()"
   ]
  },
  {
   "cell_type": "code",
   "execution_count": null,
   "metadata": {},
   "outputs": [],
   "source": []
  }
 ],
 "metadata": {
  "kernelspec": {
   "display_name": "Python 3",
   "language": "python",
   "name": "python3"
  },
  "language_info": {
   "codemirror_mode": {
    "name": "ipython",
    "version": 3
   },
   "file_extension": ".py",
   "mimetype": "text/x-python",
   "name": "python",
   "nbconvert_exporter": "python",
   "pygments_lexer": "ipython3",
   "version": "3.7.3"
  }
 },
 "nbformat": 4,
 "nbformat_minor": 2
}
